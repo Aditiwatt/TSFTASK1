{
 "cells": [
  {
   "cell_type": "markdown",
   "id": "91bd21ab",
   "metadata": {},
   "source": [
    "# ADITI WATT\n",
    "  \n",
    "  \n"
   ]
  },
  {
   "cell_type": "markdown",
   "id": "e83cf4c8",
   "metadata": {},
   "source": [
    "# Task1 :"
   ]
  },
  {
   "cell_type": "markdown",
   "id": "92897f09",
   "metadata": {},
   "source": [
    "#   PREDICTION USING SUPERVISED ML\n",
    "  "
   ]
  },
  {
   "cell_type": "markdown",
   "id": "7b76157f",
   "metadata": {},
   "source": [
    "# PREDICT PERCENTAGE OF STUDENT BASED ON NUMBER OF STUDY HOURS"
   ]
  },
  {
   "cell_type": "markdown",
   "id": "44e876a3",
   "metadata": {},
   "source": [
    " Linear regression with python scikit learn\n",
    "\n",
    "We will start with simple linear regression involving two variables.\n",
    "\n",
    "Simple Linear Regression in this regression task we will predict the percentage of marks that a student is expected to score based on the number of hours they studied.This is a simple linear regression task as it involves just two variables"
   ]
  },
  {
   "cell_type": "code",
   "execution_count": 1,
   "id": "42e74a6d",
   "metadata": {},
   "outputs": [],
   "source": [
    "#Necessary Libraries\n",
    "import numpy as np\n",
    "import pandas as pd\n",
    "import matplotlib.pyplot as plt\n",
    "%matplotlib inline"
   ]
  },
  {
   "cell_type": "code",
   "execution_count": 2,
   "id": "e4ec3761",
   "metadata": {},
   "outputs": [
    {
     "name": "stdout",
     "output_type": "stream",
     "text": [
      "Data import succesfully\n"
     ]
    }
   ],
   "source": [
    "#Reading Data from Remote Link\n",
    "url = \"http://bit.ly/w-data\"\n",
    "data = pd.read_csv(url)\n",
    "print(\"Data import succesfully\")"
   ]
  },
  {
   "cell_type": "markdown",
   "id": "4a45ca01",
   "metadata": {},
   "source": [
    "# To check the missing values\n"
   ]
  },
  {
   "cell_type": "code",
   "execution_count": 3,
   "id": "89202042",
   "metadata": {},
   "outputs": [
    {
     "data": {
      "text/plain": [
       "Hours     0\n",
       "Scores    0\n",
       "dtype: int64"
      ]
     },
     "execution_count": 3,
     "metadata": {},
     "output_type": "execute_result"
    }
   ],
   "source": [
    "data.isnull().sum()"
   ]
  },
  {
   "cell_type": "markdown",
   "id": "ea71d132",
   "metadata": {},
   "source": [
    "# To generate descriptive statistics"
   ]
  },
  {
   "cell_type": "code",
   "execution_count": 4,
   "id": "845751eb",
   "metadata": {},
   "outputs": [
    {
     "data": {
      "text/html": [
       "<div>\n",
       "<style scoped>\n",
       "    .dataframe tbody tr th:only-of-type {\n",
       "        vertical-align: middle;\n",
       "    }\n",
       "\n",
       "    .dataframe tbody tr th {\n",
       "        vertical-align: top;\n",
       "    }\n",
       "\n",
       "    .dataframe thead th {\n",
       "        text-align: right;\n",
       "    }\n",
       "</style>\n",
       "<table border=\"1\" class=\"dataframe\">\n",
       "  <thead>\n",
       "    <tr style=\"text-align: right;\">\n",
       "      <th></th>\n",
       "      <th>Hours</th>\n",
       "      <th>Scores</th>\n",
       "    </tr>\n",
       "  </thead>\n",
       "  <tbody>\n",
       "    <tr>\n",
       "      <th>count</th>\n",
       "      <td>25.000000</td>\n",
       "      <td>25.000000</td>\n",
       "    </tr>\n",
       "    <tr>\n",
       "      <th>mean</th>\n",
       "      <td>5.012000</td>\n",
       "      <td>51.480000</td>\n",
       "    </tr>\n",
       "    <tr>\n",
       "      <th>std</th>\n",
       "      <td>2.525094</td>\n",
       "      <td>25.286887</td>\n",
       "    </tr>\n",
       "    <tr>\n",
       "      <th>min</th>\n",
       "      <td>1.100000</td>\n",
       "      <td>17.000000</td>\n",
       "    </tr>\n",
       "    <tr>\n",
       "      <th>25%</th>\n",
       "      <td>2.700000</td>\n",
       "      <td>30.000000</td>\n",
       "    </tr>\n",
       "    <tr>\n",
       "      <th>50%</th>\n",
       "      <td>4.800000</td>\n",
       "      <td>47.000000</td>\n",
       "    </tr>\n",
       "    <tr>\n",
       "      <th>75%</th>\n",
       "      <td>7.400000</td>\n",
       "      <td>75.000000</td>\n",
       "    </tr>\n",
       "    <tr>\n",
       "      <th>max</th>\n",
       "      <td>9.200000</td>\n",
       "      <td>95.000000</td>\n",
       "    </tr>\n",
       "  </tbody>\n",
       "</table>\n",
       "</div>"
      ],
      "text/plain": [
       "           Hours     Scores\n",
       "count  25.000000  25.000000\n",
       "mean    5.012000  51.480000\n",
       "std     2.525094  25.286887\n",
       "min     1.100000  17.000000\n",
       "25%     2.700000  30.000000\n",
       "50%     4.800000  47.000000\n",
       "75%     7.400000  75.000000\n",
       "max     9.200000  95.000000"
      ]
     },
     "execution_count": 4,
     "metadata": {},
     "output_type": "execute_result"
    }
   ],
   "source": [
    "data.describe()"
   ]
  },
  {
   "cell_type": "markdown",
   "id": "52d50ade",
   "metadata": {},
   "source": [
    "# DATA VISUALISATION\n",
    "\n",
    "Let's plot our datapoints on 2-D graph to eyeball our dataset and see if we can manually find any relationship between the data.We can create the plot with the following script:"
   ]
  },
  {
   "cell_type": "code",
   "execution_count": 5,
   "id": "e20d2d17",
   "metadata": {},
   "outputs": [],
   "source": [
    "x = data['Hours']\n",
    "y = data['Scores']"
   ]
  },
  {
   "cell_type": "code",
   "execution_count": 6,
   "id": "c274db84",
   "metadata": {},
   "outputs": [
    {
     "data": {
      "image/png": "[encoded data removed]",
      "text/plain": [
       "<Figure size 432x288 with 1 Axes>"
      ]
     },
     "metadata": {
      "needs_background": "light"
     },
     "output_type": "display_data"
    }
   ],
   "source": [
    "plt.scatter(x,y)\n",
    "plt.title('Hours vs Percentage')\n",
    "plt.xlabel('Hours Studied',fontsize=20)\n",
    "plt.ylabel('Percentable scores',fontsize=20)\n",
    "plt.show()"
   ]
  },
  {
   "cell_type": "markdown",
   "id": "eb7586e1",
   "metadata": {},
   "source": [
    "From the graph above, we can clearly see that there is a positive linear relation between the number of hours studied and percentage of score.\n"
   ]
  },
  {
   "cell_type": "markdown",
   "id": "70d50eca",
   "metadata": {},
   "source": [
    "# LINEAR REGRESSION MODEL\n"
   ]
  },
  {
   "cell_type": "markdown",
   "id": "ce82f5c4",
   "metadata": {},
   "source": [
    "PREPARING THE DATA"
   ]
  },
  {
   "cell_type": "code",
   "execution_count": 7,
   "id": "ea139f50",
   "metadata": {},
   "outputs": [],
   "source": [
    "x = data.iloc[:, :-1].values\n",
    "y = data.iloc[:,1].values"
   ]
  },
  {
   "cell_type": "markdown",
   "id": "4918221f",
   "metadata": {},
   "source": [
    "Now that we have our attributes and labels,the next step is to split this data into training and test sets.We'll do this by using Scikit-Learn's built-in train_test_split() method:"
   ]
  },
  {
   "cell_type": "code",
   "execution_count": 8,
   "id": "be73ee00",
   "metadata": {},
   "outputs": [],
   "source": [
    "from sklearn.model_selection import train_test_split\n",
    "x_train, x_test, y_train, y_test = train_test_split(x,y,test_size = 0.3,random_state=0)"
   ]
  },
  {
   "cell_type": "markdown",
   "id": "48637429",
   "metadata": {},
   "source": [
    "# TRAINING THE ALGORITHM"
   ]
  },
  {
   "cell_type": "markdown",
   "id": "125de5c7",
   "metadata": {},
   "source": [
    "We have split our data into training and testing sets,and now will train our algorithm"
   ]
  },
  {
   "cell_type": "code",
   "execution_count": 9,
   "id": "3cf947d4",
   "metadata": {},
   "outputs": [],
   "source": [
    "from sklearn.linear_model import LinearRegression"
   ]
  },
  {
   "cell_type": "code",
   "execution_count": 10,
   "id": "656065dc",
   "metadata": {},
   "outputs": [
    {
     "name": "stdout",
     "output_type": "stream",
     "text": [
      "Training Complete\n"
     ]
    }
   ],
   "source": [
    "regressor = LinearRegression()\n",
    "regressor.fit(x_train, y_train)\n",
    "print(\"Training Complete\")"
   ]
  },
  {
   "cell_type": "code",
   "execution_count": 11,
   "id": "58528dfc",
   "metadata": {},
   "outputs": [],
   "source": [
    "#Plotting the regression line\n",
    "line = regressor.coef_*x+regressor.intercept_"
   ]
  },
  {
   "cell_type": "code",
   "execution_count": 12,
   "id": "f7f1da91",
   "metadata": {},
   "outputs": [
    {
     "data": {
      "image/png": "[encoded data removed]",
      "text/plain": [
       "<Figure size 432x288 with 1 Axes>"
      ]
     },
     "metadata": {
      "needs_background": "light"
     },
     "output_type": "display_data"
    }
   ],
   "source": [
    "#Plotting for test\n",
    "plt.scatter(x,y)\n",
    "plt.plot(x,line);\n",
    "plt.show()"
   ]
  },
  {
   "cell_type": "markdown",
   "id": "cffe7c92",
   "metadata": {},
   "source": [
    "# MAKING PREDICTION"
   ]
  },
  {
   "cell_type": "code",
   "execution_count": 13,
   "id": "26b7064b",
   "metadata": {},
   "outputs": [
    {
     "name": "stdout",
     "output_type": "stream",
     "text": [
      "[[1.5]\n",
      " [3.2]\n",
      " [7.4]\n",
      " [2.5]\n",
      " [5.9]\n",
      " [3.8]\n",
      " [1.9]\n",
      " [7.8]]\n"
     ]
    }
   ],
   "source": [
    "print(x_test)\n",
    "y_pred = regressor.predict(x_test)"
   ]
  },
  {
   "cell_type": "code",
   "execution_count": 14,
   "id": "a83d2dd7",
   "metadata": {},
   "outputs": [
    {
     "data": {
      "text/html": [
       "<div>\n",
       "<style scoped>\n",
       "    .dataframe tbody tr th:only-of-type {\n",
       "        vertical-align: middle;\n",
       "    }\n",
       "\n",
       "    .dataframe tbody tr th {\n",
       "        vertical-align: top;\n",
       "    }\n",
       "\n",
       "    .dataframe thead th {\n",
       "        text-align: right;\n",
       "    }\n",
       "</style>\n",
       "<table border=\"1\" class=\"dataframe\">\n",
       "  <thead>\n",
       "    <tr style=\"text-align: right;\">\n",
       "      <th></th>\n",
       "      <th>Actual</th>\n",
       "      <th>Predicted</th>\n",
       "    </tr>\n",
       "  </thead>\n",
       "  <tbody>\n",
       "    <tr>\n",
       "      <th>0</th>\n",
       "      <td>20</td>\n",
       "      <td>17.053665</td>\n",
       "    </tr>\n",
       "    <tr>\n",
       "      <th>1</th>\n",
       "      <td>27</td>\n",
       "      <td>33.694229</td>\n",
       "    </tr>\n",
       "    <tr>\n",
       "      <th>2</th>\n",
       "      <td>69</td>\n",
       "      <td>74.806209</td>\n",
       "    </tr>\n",
       "    <tr>\n",
       "      <th>3</th>\n",
       "      <td>30</td>\n",
       "      <td>26.842232</td>\n",
       "    </tr>\n",
       "    <tr>\n",
       "      <th>4</th>\n",
       "      <td>62</td>\n",
       "      <td>60.123359</td>\n",
       "    </tr>\n",
       "    <tr>\n",
       "      <th>5</th>\n",
       "      <td>35</td>\n",
       "      <td>39.567369</td>\n",
       "    </tr>\n",
       "    <tr>\n",
       "      <th>6</th>\n",
       "      <td>24</td>\n",
       "      <td>20.969092</td>\n",
       "    </tr>\n",
       "    <tr>\n",
       "      <th>7</th>\n",
       "      <td>86</td>\n",
       "      <td>78.721636</td>\n",
       "    </tr>\n",
       "  </tbody>\n",
       "</table>\n",
       "</div>"
      ],
      "text/plain": [
       "   Actual  Predicted\n",
       "0      20  17.053665\n",
       "1      27  33.694229\n",
       "2      69  74.806209\n",
       "3      30  26.842232\n",
       "4      62  60.123359\n",
       "5      35  39.567369\n",
       "6      24  20.969092\n",
       "7      86  78.721636"
      ]
     },
     "execution_count": 14,
     "metadata": {},
     "output_type": "execute_result"
    }
   ],
   "source": [
    "#comparing Actual vs Predicted\n",
    "df = pd.DataFrame({'Actual': y_test,'Predicted':y_pred})\n",
    "df"
   ]
  },
  {
   "cell_type": "code",
   "execution_count": 15,
   "id": "46698231",
   "metadata": {},
   "outputs": [
    {
     "name": "stdout",
     "output_type": "stream",
     "text": [
      "Training Score  0.9484997422695115\n",
      "Testing Score  0.9568211104435257\n"
     ]
    }
   ],
   "source": [
    "print(\"Training Score \",regressor.score(x_train,y_train))\n",
    "print(\"Testing Score \",regressor.score(x_test,y_test))\n"
   ]
  },
  {
   "cell_type": "code",
   "execution_count": 16,
   "id": "c178b9b5",
   "metadata": {},
   "outputs": [
    {
     "data": {
      "image/png": "[encoded data removed]",
      "text/plain": [
       "<Figure size 504x504 with 1 Axes>"
      ]
     },
     "metadata": {
      "needs_background": "light"
     },
     "output_type": "display_data"
    }
   ],
   "source": [
    "#plotting the bar chart to depict the actual and predeicted value\n",
    "df.plot(kind = 'bar',figsize = (7,7))\n",
    "plt.show()"
   ]
  },
  {
   "cell_type": "code",
   "execution_count": 17,
   "id": "71b468be",
   "metadata": {},
   "outputs": [
    {
     "name": "stdout",
     "output_type": "stream",
     "text": [
      "No. of hours = 9.25\n",
      "Predicted Score = 92.91505723477056\n"
     ]
    }
   ],
   "source": [
    "#prediction for 9.25 hr\n",
    "hours = 9.25\n",
    "test = np.array([hours])\n",
    "test = test.reshape(-1,1)\n",
    "own_pred = regressor.predict(test)\n",
    "print(\"No. of hours = {}\".format(hours))\n",
    "print(\"Predicted Score = {}\".format(own_pred[0]))"
   ]
  },
  {
   "cell_type": "markdown",
   "id": "df5958f7",
   "metadata": {},
   "source": [
    "# EVALUATING MODEL\n"
   ]
  },
  {
   "cell_type": "code",
   "execution_count": 18,
   "id": "c232b63c",
   "metadata": {},
   "outputs": [
    {
     "name": "stdout",
     "output_type": "stream",
     "text": [
      "Mean Absolute Error:  4.419727808027651\n",
      "Mean Squared Error:  22.965097212700428\n",
      "Root Mean Squared Error:  4.7921912746363144\n",
      "Explained Variance Score:  0.9568649952899161\n"
     ]
    }
   ],
   "source": [
    "import numpy as np\n",
    "from sklearn import metrics\n",
    "print(\"Mean Absolute Error: \",metrics.mean_absolute_error(y_test,y_pred))\n",
    "print(\"Mean Squared Error: \",metrics.mean_squared_error(y_test,y_pred))\n",
    "print(\"Root Mean Squared Error: \",np.sqrt(metrics.mean_squared_error(y_test,y_pred)))\n",
    "print(\"Explained Variance Score: \",metrics.explained_variance_score(y_test,y_pred))\n",
    "      "
   ]
  },
  {
   "cell_type": "markdown",
   "id": "e665ffc6",
   "metadata": {},
   "source": [
    "# PREDICTING SCORE"
   ]
  },
  {
   "cell_type": "code",
   "execution_count": 19,
   "id": "8c72e6a0",
   "metadata": {},
   "outputs": [
    {
     "name": "stdout",
     "output_type": "stream",
     "text": [
      "Enter the number of hours : 9.25\n",
      "Predicted percentage: [92.91505723]\n"
     ]
    }
   ],
   "source": [
    "hours = float(input(\"Enter the number of hours : \"))\n",
    "percentage = regressor.predict([[hours]])\n",
    "print(\"Predicted percentage:\",percentage)"
   ]
  },
  {
   "cell_type": "code",
   "execution_count": null,
   "id": "8018fae4",
   "metadata": {},
   "outputs": [],
   "source": []
  }
 ],
 "metadata": {
  "kernelspec": {
   "display_name": "Python 3",
   "language": "python",
   "name": "python3"
  },
  "language_info": {
   "codemirror_mode": {
    "name": "ipython",
    "version": 3
   },
   "file_extension": ".py",
   "mimetype": "text/x-python",
   "name": "python",
   "nbconvert_exporter": "python",
   "pygments_lexer": "ipython3",
   "version": "3.8.8"
  }
 },
 "nbformat": 4,
 "nbformat_minor": 5
}
